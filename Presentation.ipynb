{
 "cells": [
  {
   "cell_type": "markdown",
   "id": "67dcba51",
   "metadata": {},
   "source": [
    "# Analyze Sparse + Smooth signal with an inverse problem\n",
    "This nootbook presents the main results of my project"
   ]
  },
  {
   "cell_type": "code",
   "execution_count": null,
   "id": "35201472",
   "metadata": {
    "scrolled": false
   },
   "outputs": [],
   "source": [
    "from src import *\n",
    "import numpy as np\n",
    "import matplotlib.pyplot as plt\n",
    "%matplotlib inline\n",
    "%config InlineBackend.figure_format='retina'"
   ]
  },
  {
   "cell_type": "code",
   "execution_count": null,
   "id": "acd32209",
   "metadata": {
    "scrolled": false
   },
   "outputs": [],
   "source": [
    "import warnings\n",
    "warnings.filterwarnings('ignore')"
   ]
  },
  {
   "cell_type": "markdown",
   "id": "7b66f703",
   "metadata": {},
   "source": [
    "## Sparse + Smooth signal\n",
    "We have our simulated Sparse + Smooth signal"
   ]
  },
  {
   "cell_type": "code",
   "execution_count": null,
   "id": "3569f89c",
   "metadata": {
    "scrolled": false
   },
   "outputs": [],
   "source": [
    "d = (128, 128) # Dimensions of our image\n",
    "seed = 42\n",
    "s = SparseSmoothSignal(d) # Our simulated sparse + smooth signal\n",
    "s.random_sparse(seed)\n",
    "s.random_smooth(seed)\n",
    "s.plot()"
   ]
  },
  {
   "cell_type": "markdown",
   "id": "9aadac76",
   "metadata": {},
   "source": [
    "## Hyperparameters"
   ]
  },
  {
   "cell_type": "code",
   "execution_count": null,
   "id": "a0aec05c",
   "metadata": {},
   "outputs": [],
   "source": [
    "L = 0.1 # Number of measurements in percentage\n",
    "l1 = 0.02 # lambda 1 - weight of the L1 penalty\n",
    "l2 = 0.1 # lambda 2 - weight of the L2 penalty\n",
    "psnr = 50. # PSNR added\n",
    "s.psnr = psnr\n",
    "s.H = get_low_freq_operator(d, L) # Measurement operator used\n",
    "l2_op = get_L2_operator(d, \"Laplacian\") # Smoothing Operator of the L2 penalty term, here a Laplacian"
   ]
  },
  {
   "cell_type": "markdown",
   "id": "b1f199f8",
   "metadata": {},
   "source": [
    "## Reconstruction \n",
    "We have made a reconstruction with the parameters above."
   ]
  },
  {
   "cell_type": "code",
   "execution_count": null,
   "id": "12c0c844",
   "metadata": {
    "scrolled": false
   },
   "outputs": [],
   "source": [
    "%%time\n",
    "x1, x2 = solve(s, l1, l2, l2_op)\n",
    "plot_reconstruction(s.sparse, s.smooth, x1, x2)"
   ]
  },
  {
   "cell_type": "markdown",
   "id": "c0c6682b",
   "metadata": {},
   "source": [
    "## Performance"
   ]
  },
  {
   "cell_type": "code",
   "execution_count": null,
   "id": "7bc1c15c",
   "metadata": {},
   "outputs": [],
   "source": [
    "%%time\n",
    "d_1000 = (1000, 1000)\n",
    "s_1000 = SparseSmoothSignal(d_1000)\n",
    "s_1000.H = get_low_freq_operator(d_1000, L) "
   ]
  },
  {
   "cell_type": "code",
   "execution_count": null,
   "id": "532750cb",
   "metadata": {},
   "outputs": [],
   "source": [
    "%%time\n",
    "l2_op_1000 = get_L2_operator(d_1000, \"Laplacian\")"
   ]
  },
  {
   "cell_type": "code",
   "execution_count": null,
   "id": "bc3bea2f",
   "metadata": {},
   "outputs": [],
   "source": [
    "%%time\n",
    "x1_1000, x2_1000 = solve(s_1000, l1, l2, l2_op_1000)\n",
    "plot_reconstruction(s.sparse, s.smooth, x1_1000, x2_1000)"
   ]
  },
  {
   "cell_type": "code",
   "execution_count": null,
   "id": "0c503719",
   "metadata": {},
   "outputs": [],
   "source": [
    "# clearing heavy variables\n",
    "del d_1000\n",
    "del s_1000\n",
    "del l2_op_1000\n",
    "del x1_1000\n",
    "del x2_1000"
   ]
  },
  {
   "cell_type": "markdown",
   "id": "49930e1e",
   "metadata": {},
   "source": [
    "## Sampling Methods\n",
    "We have 3 different sampling methods that can be used. The first is by taking the highest fourier coeffcient of the signal ploted on the left. The second is just a random uniform samping. The third is mix with a part that samples the low frequency with a gaussian and the other part samples uniformly from the rest of the pixel."
   ]
  },
  {
   "cell_type": "code",
   "execution_count": null,
   "id": "ed593727",
   "metadata": {
    "scrolled": true
   },
   "outputs": [],
   "source": [
    "plot_sampling_methods(s, L)"
   ]
  },
  {
   "cell_type": "markdown",
   "id": "3eb8e72a",
   "metadata": {},
   "source": [
    "We see that for the smooth component as long as we can sample the important coefficient we have a good reconstruction. We also notice that the sparse component is better reconstruct with a uniform sampling even slightly better than the highest fourier coeffcient."
   ]
  },
  {
   "cell_type": "code",
   "execution_count": null,
   "id": "3f508ff6",
   "metadata": {
    "scrolled": false
   },
   "outputs": [],
   "source": [
    "compare_measurements_methods(s, L, l1, l2, psnr, \"Laplacian\")"
   ]
  },
  {
   "cell_type": "markdown",
   "id": "98271d67",
   "metadata": {},
   "source": [
    "With noise the best method remains the highest fourier coeffcient."
   ]
  },
  {
   "cell_type": "code",
   "execution_count": null,
   "id": "33e27044",
   "metadata": {},
   "outputs": [],
   "source": [
    "s.psnr = 20.\n",
    "compare_measurements_methods(s, L, l1, l2, 20, \"Laplacian\")"
   ]
  },
  {
   "cell_type": "markdown",
   "id": "01a323f9",
   "metadata": {},
   "source": [
    "## Smoothing operator\n",
    "The smoothing operator really help with the smooth component, it smooth the result and also eliminates the peaks of the sparse component on the smooth one."
   ]
  },
  {
   "cell_type": "code",
   "execution_count": null,
   "id": "a45c3a69",
   "metadata": {},
   "outputs": [],
   "source": [
    "s.psnr = 50.\n",
    "compare_smoothing_operator(s)"
   ]
  },
  {
   "cell_type": "markdown",
   "id": "f4d382a6",
   "metadata": {},
   "source": [
    "It works even better when we have noise"
   ]
  },
  {
   "cell_type": "code",
   "execution_count": null,
   "id": "aa480cb6",
   "metadata": {},
   "outputs": [],
   "source": [
    "s.psnr = 20.\n",
    "compare_smoothing_operator(s)"
   ]
  },
  {
   "attachments": {},
   "cell_type": "markdown",
   "id": "59ab2e82",
   "metadata": {},
   "source": [
    "We see that without the smoothing operator we can't have a good reconstruction for both componant. If $\\lambda_2$ is too big compare to $\\lambda_1$ then the sparse componant contains smooth pixels and the smooth is really low energy. When $\\lambda_2$ is too low then the sparse component is zero and the smooth component start to have the sparse peaks in it like above."
   ]
  },
  {
   "cell_type": "code",
   "execution_count": null,
   "id": "f87b09d9",
   "metadata": {},
   "outputs": [],
   "source": [
    "s.psnr = 50.\n",
    "x1, x2 = solve(s, 0.1, 0.2, None)\n",
    "plot_reconstruction(s.sparse, s.smooth, x1, x2)"
   ]
  },
  {
   "cell_type": "code",
   "execution_count": null,
   "id": "3cdcb323",
   "metadata": {},
   "outputs": [],
   "source": [
    "s.psnr = 50.\n",
    "x1, x2 = solve(s, 0.2, 0.1, None)\n",
    "plot_reconstruction(s.sparse, s.smooth, x1, x2)"
   ]
  },
  {
   "cell_type": "markdown",
   "id": "8166c66a",
   "metadata": {},
   "source": [
    "## Study of $\\lambda_1$ and $\\lambda_2$\n",
    "Here we try to find the \"best\" $\\lambda_1$ and $\\lambda_2$ to use and what impact they have. "
   ]
  },
  {
   "cell_type": "markdown",
   "id": "4a644b2b",
   "metadata": {},
   "source": [
    "First we try to change $\\lambda_1$ for some fix $\\lambda_2$ and we plot the loss. We also ploted the number of peaks recoverd in the sparse component. In the last plot we have studied the value of some pixels of the sparse reconstruction as $\\lambda_1$ cahnge."
   ]
  },
  {
   "cell_type": "code",
   "execution_count": null,
   "id": "0cb2d995",
   "metadata": {
    "scrolled": false
   },
   "outputs": [],
   "source": [
    "test_lambda1(s, L, lambda1_min=0.001, lambda1_max=0.4, nb=50, lambda2=0.1, operator_l2=\"Laplacian\", psnr=50., threshold=0.75)"
   ]
  },
  {
   "cell_type": "markdown",
   "id": "9a9a2f81",
   "metadata": {},
   "source": [
    "Here we have done the same for $\\lambda_2$"
   ]
  },
  {
   "cell_type": "code",
   "execution_count": null,
   "id": "350924eb",
   "metadata": {},
   "outputs": [],
   "source": [
    "test_lambda2(s, L, lambda2_min=0.001, lambda2_max=0.4, nb=50, lambda1=0.02, operator_l2=\"Laplacian\", psnr=50., threshold=0.75)"
   ]
  },
  {
   "cell_type": "markdown",
   "id": "0d90abb7",
   "metadata": {},
   "source": [
    "## Reconstruction with noise\n",
    "The reconstruction with noise is really complicated."
   ]
  },
  {
   "cell_type": "markdown",
   "id": "1d15d1db",
   "metadata": {},
   "source": [
    "With 30 PSNR, we can't recoved the sparse component, we can just get some of the peaks back. For the smooth one we can recover a signal that is a bit noisy."
   ]
  },
  {
   "cell_type": "code",
   "execution_count": null,
   "id": "d45d3a0c",
   "metadata": {},
   "outputs": [],
   "source": [
    "s.psnr = 30.\n",
    "x1, x2 = solve(s, l1, l2, get_L2_operator(d, \"Laplacian\"))\n",
    "plot_reconstruction(s.sparse, s.smooth, x1, x2)\n",
    "found, wrong =  peaks_found(s.sparse, x1, 2)\n",
    "print(f\"Peaks found : {found}\")\n",
    "print(f\"Wrong peaks found : {wrong}\")"
   ]
  },
  {
   "cell_type": "markdown",
   "id": "93b96551",
   "metadata": {},
   "source": [
    "With 20 PSNR the smooth component start to become really noisy and the sparse is just like random"
   ]
  },
  {
   "cell_type": "code",
   "execution_count": null,
   "id": "04057be2",
   "metadata": {},
   "outputs": [],
   "source": [
    "psnr = 20.\n",
    "s.psnr = psnr\n",
    "x1, x2 = solve(s, l1, l2, get_L2_operator(d, \"Laplacian\"))\n",
    "plot_reconstruction(s.sparse, s.smooth, x1, x2)\n",
    "found, wrong = peaks_found(s.sparse, x1, 2)\n",
    "print(f\"peaks found : {found}\")\n",
    "print(f\"wrong peaks found : {wrong}\")"
   ]
  },
  {
   "cell_type": "markdown",
   "id": "4d137b0f",
   "metadata": {},
   "source": [
    "With 0 PSNR we just get noise"
   ]
  },
  {
   "cell_type": "code",
   "execution_count": null,
   "id": "097fbd5b",
   "metadata": {},
   "outputs": [],
   "source": [
    "psnr = 0.\n",
    "s.psnr = psnr\n",
    "x1, x2 = solve(s, l1, l2, get_L2_operator(d, \"Laplacian\"))\n",
    "plot_reconstruction(s.sparse, s.smooth, x1, x2)\n",
    "found, wrong = peaks_found(s.sparse, x1, 2)\n",
    "print(f\"peaks found : {found}\")\n",
    "print(f\"wrong peaks found : {wrong}\")"
   ]
  },
  {
   "cell_type": "markdown",
   "id": "56a61e0e",
   "metadata": {},
   "source": [
    "We can try to change our penalty weights to have a better recovery, but we can see that it is impossible by just changing these two parameters to have a better recovery."
   ]
  },
  {
   "cell_type": "code",
   "execution_count": null,
   "id": "2192acbc",
   "metadata": {},
   "outputs": [],
   "source": [
    "test_lambda1(s, L, lambda1_min=0.001, lambda1_max=0.2, nb=50, lambda2=0.1, operator_l2=\"Laplacian\", psnr=psnr)"
   ]
  },
  {
   "cell_type": "code",
   "execution_count": null,
   "id": "72d356de",
   "metadata": {},
   "outputs": [],
   "source": [
    "test_lambda2(s, L, lambda2_min=0.001, lambda2_max=0.2, nb=50, lambda1=0.05, operator_l2=\"Laplacian\", psnr=psnr)"
   ]
  },
  {
   "cell_type": "markdown",
   "id": "890d37df",
   "metadata": {},
   "source": [
    "Taking more measurements helps a bit, but doesn't solve the problem either"
   ]
  },
  {
   "cell_type": "code",
   "execution_count": null,
   "id": "1df6dd2d",
   "metadata": {},
   "outputs": [],
   "source": [
    "psnr = 20.\n",
    "s.psnr = psnr\n",
    "s.H = get_low_freq_operator(d, 0.25) # 25% of measurements\n",
    "x1, x2 = solve(s, l1, l2, get_L2_operator(d, \"Laplacian\"))\n",
    "plot_reconstruction(s.sparse, s.smooth, x1, x2)\n",
    "found, wrong = peaks_found(s.sparse, x1, 2)\n",
    "print(f\"peaks found : {found}\")\n",
    "print(f\"wrong peaks found : {wrong}\")"
   ]
  }
 ],
 "metadata": {
  "kernelspec": {
   "display_name": "Python 3 (ipykernel)",
   "language": "python",
   "name": "python3"
  },
  "language_info": {
   "codemirror_mode": {
    "name": "ipython",
    "version": 3
   },
   "file_extension": ".py",
   "mimetype": "text/x-python",
   "name": "python",
   "nbconvert_exporter": "python",
   "pygments_lexer": "ipython3",
   "version": "3.8.12"
  }
 },
 "nbformat": 4,
 "nbformat_minor": 5
}
